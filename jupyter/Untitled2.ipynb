{
 "cells": [
  {
   "cell_type": "code",
   "execution_count": 7,
   "id": "9bfd7179",
   "metadata": {},
   "outputs": [
    {
     "name": "stdout",
     "output_type": "stream",
     "text": [
      "[ 30  60  90 120 150]\n",
      "[ 7020  7560    30  7080 15690]\n"
     ]
    }
   ],
   "source": [
    "import tensorflow as tf\n",
    "\n",
    "a = tf.placeholder(tf.int32, [None])\n",
    "b= tf.constant(30)\n",
    "xnone_op = a * b\n",
    "\n",
    "sess = tf.Session()\n",
    "\n",
    "r1 = sess.run(xnone_op, feed_dict={a:[1,2,3,4,5]})\n",
    "print(r1)\n",
    "r2 = sess.run(xnone_op, feed_dict={a:[234, 252, 1, 236, 523]})\n",
    "print(r2)"
   ]
  }
 ],
 "metadata": {
  "kernelspec": {
   "display_name": "Python 3",
   "language": "python",
   "name": "python3"
  },
  "language_info": {
   "codemirror_mode": {
    "name": "ipython",
    "version": 3
   },
   "file_extension": ".py",
   "mimetype": "text/x-python",
   "name": "python",
   "nbconvert_exporter": "python",
   "pygments_lexer": "ipython3",
   "version": "3.6.2"
  }
 },
 "nbformat": 4,
 "nbformat_minor": 5
}
